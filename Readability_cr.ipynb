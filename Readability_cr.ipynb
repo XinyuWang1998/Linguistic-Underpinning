{
  "nbformat": 4,
  "nbformat_minor": 0,
  "metadata": {
    "colab": {
      "provenance": []
    },
    "kernelspec": {
      "name": "python3",
      "display_name": "Python 3"
    },
    "language_info": {
      "name": "python"
    }
  },
  "cells": [
    {
      "cell_type": "code",
      "execution_count": null,
      "metadata": {
        "id": "_rPoCzpqc8Jh"
      },
      "outputs": [],
      "source": [
        "# Initial Setup.\n",
        "import pandas as pd\n",
        "import re\n",
        "import numpy as np\n",
        "from readability import Readability\n",
        "import nltk\n",
        "nltk.download('punkt')\n",
        "from tqdm import tqdm\n",
        "import matplotlib.pyplot as plt\n",
        "import seaborn as sns"
      ]
    },
    {
      "cell_type": "code",
      "source": [
        "\n",
        "#Read in cleaned dataset.\n",
        "file_path=path+ \"fraud_hashtag.csv\"\n",
        "data_fraud=pd.read_csv(file_path, index_col=[0],converters={'id':str,'entities':str,'interact_with':str,'author_id':str})\n",
        "file_path=path+ \"qa_hashtag.csv\"\n",
        "data_qa=pd.read_csv(file_path, index_col=[0],converters={'id':str,'entities':str,'interact_with':str,'author_id':str})\n",
        "file_path=path+ \"anti_hashtag.csv\"\n",
        "data_anti=pd.read_csv(file_path, index_col=[0],converters={'id':str,'entities':str,'interact_with':str,'author_id':str})\n",
        "file_path=path+ \"mm_hashtag.csv\"\n",
        "data_mm=pd.read_csv(file_path, index_col=[0],converters={'id':str,'entities':str,'interact_with':str,'author_id':str})\n",
        "file_path=path+ \"mt_hashtag.csv\"\n",
        "data_mt=pd.read_csv(file_path, index_col=[0],converters={'id':str,'entities':str,'interact_with':str,'author_id':str})\n",
        "file_path=path+ \"blm_hashtag.csv\"\n",
        "data_blm=pd.read_csv(file_path, index_col=[0],converters={'id':str,'entities':str,'interact_with':str,'author_id':str})"
      ],
      "metadata": {
        "id": "-2WbYKDYmIlA"
      },
      "execution_count": null,
      "outputs": []
    },
    {
      "cell_type": "code",
      "source": [
        "# Clean the text.\n",
        "def cleaner(x):\n",
        "    import re\n",
        "    x = re.sub(r'http\\S+', '', x)\n",
        "    x = re.sub('\\n', '',x)\n",
        "    x = re.sub(\"@[A-Za-z0-9_]+\",\"\", x)\n",
        "    x=re.sub(r'^RT ', '', x)\n",
        "    x = re.sub(\"#[A-Za-z0-9_]+\",\"\", x)\n",
        "    #x = re.sub(r'[^\\w\\s]', '', x)\n",
        "    #import nltk\n",
        "    #from nltk.corpus import stopwords\n",
        "    #words = nltk.word_tokenize(x)\n",
        "    # Remove stopwords\n",
        "    #stop_words = set(stopwords.words('english'))\n",
        "    #words = [word for word in words if word.lower() not in stop_words]\n",
        "    #from gensim.parsing.preprocessing import remove_stopwords\n",
        "    #x = remove_stopwords(x)\n",
        "    emoji_pattern = re.compile(\"[\"\n",
        "        u\"\\U0001F600-\\U0001F64F\"  # emoticons\n",
        "        u\"\\U0001F300-\\U0001F5FF\"  # symbols & pictographs\n",
        "        u\"\\U0001F680-\\U0001F6FF\"  # transport & map symbols\n",
        "        u\"\\U0001F1E0-\\U0001F1FF\"  # flags (iOS)\n",
        "        u\"\\U0001F1F2-\\U0001F1F4\"  # Macau flag\n",
        "        u\"\\U0001F1E6-\\U0001F1FF\"  # flags\n",
        "        u\"\\U0001F600-\\U0001F64F\"\n",
        "        u\"\\U00002702-\\U000027B0\"\n",
        "        u\"\\U000024C2-\\U0001F251\"\n",
        "        u\"\\U0001f926-\\U0001f937\"\n",
        "        u\"\\U0001F1F2\"\n",
        "        u\"\\U0001F1F4\"\n",
        "        u\"\\U0001F620\"\n",
        "        u\"\\u200d\"\n",
        "        u\"\\u2640-\\u2642\"\n",
        "        \"]+\", flags=re.UNICODE)\n",
        "\n",
        "    x = emoji_pattern.sub(r'', x)\n",
        "    x = x.lower()\n",
        "    #import emoji\n",
        "    #cleaned = emoji.get_emoji_regexp().sub(\"\", x)\n",
        "    return x"
      ],
      "metadata": {
        "id": "1D3HQrENp7nU"
      },
      "execution_count": null,
      "outputs": []
    },
    {
      "cell_type": "code",
      "source": [
        "data_fraud['text_cleaned']=data_fraud['text'].apply(cleaner)\n",
        "data_qa['text_cleaned']=data_qa['text'].apply(cleaner)\n",
        "data_anti['text_cleaned']=data_anti['text'].apply(cleaner)\n",
        "data_mm['text_cleaned']=data_mm['text'].apply(cleaner)\n",
        "data_mt['text_cleaned']=data_mt['text'].apply(cleaner)\n",
        "data_blm['text_cleaned']=data_blm['text'].apply(cleaner)"
      ],
      "metadata": {
        "id": "x6PR5IferGSd"
      },
      "execution_count": null,
      "outputs": []
    },
    {
      "cell_type": "code",
      "source": [
        "data_fraud_ec=data_fraud.loc[data_fraud['cluster']==1]\n",
        "data_fraud_nec=data_fraud.loc[data_fraud['cluster']==0]"
      ],
      "metadata": {
        "id": "yV8uzI6vp-tQ"
      },
      "execution_count": null,
      "outputs": []
    },
    {
      "cell_type": "code",
      "source": [
        "from tqdm import tqdm\n",
        "nec_fraud_score=[]\n",
        "for i in tqdm(range(0,100)):\n",
        "  data_clustered=data_fraud_nec.sample(n=100)\n",
        "  joined_text = ' '.join(data_clustered['text_cleaned'])\n",
        "  score = Readability(joined_text).flesch().score\n",
        "  nec_fraud_score.append(score)"
      ],
      "metadata": {
        "colab": {
          "base_uri": "https://localhost:8080/"
        },
        "id": "qZTGBOCyppUn",
        "outputId": "b296f95a-c81f-4fbc-dc98-ae6a4deba32c"
      },
      "execution_count": null,
      "outputs": [
        {
          "output_type": "stream",
          "name": "stderr",
          "text": [
            "100%|██████████| 100/100 [00:29<00:00,  3.42it/s]\n"
          ]
        }
      ]
    },
    {
      "cell_type": "code",
      "source": [
        "ec_fraud_score=[]\n",
        "for i in tqdm(range(0,100)):\n",
        "  data_clustered=data_fraud_ec.sample(n=100)\n",
        "  joined_text = ' '.join(data_clustered['text_cleaned'])\n",
        "  score = Readability(joined_text).flesch().score\n",
        "  ec_fraud_score.append(score)"
      ],
      "metadata": {
        "colab": {
          "base_uri": "https://localhost:8080/"
        },
        "id": "XnTC4H6p1zd6",
        "outputId": "66652b6d-678d-40a4-c05c-20de54da76f5"
      },
      "execution_count": null,
      "outputs": [
        {
          "output_type": "stream",
          "name": "stderr",
          "text": [
            "100%|██████████| 100/100 [00:29<00:00,  3.36it/s]\n"
          ]
        }
      ]
    },
    {
      "cell_type": "code",
      "source": [
        "data_anti_ec=data_anti.loc[data_anti['cluster']==1]\n",
        "data_anti_nec=data_anti.loc[data_anti['cluster']==0]"
      ],
      "metadata": {
        "id": "WdraNn-a3Hgj"
      },
      "execution_count": null,
      "outputs": []
    },
    {
      "cell_type": "code",
      "source": [
        "\n",
        "nec_anti_score=[]\n",
        "for i in tqdm(range(0,100)):\n",
        "  data_clustered=data_anti_nec.sample(n=100)\n",
        "  joined_text = ' '.join(data_clustered['text_cleaned'])\n",
        "  score = Readability(joined_text).flesch().score\n",
        "  nec_anti_score.append(score)"
      ],
      "metadata": {
        "colab": {
          "base_uri": "https://localhost:8080/"
        },
        "outputId": "d79261e9-310b-42cf-cdcf-6233b93ce1b8",
        "id": "FkRb9nN73Hgk"
      },
      "execution_count": null,
      "outputs": [
        {
          "output_type": "stream",
          "name": "stderr",
          "text": [
            "100%|██████████| 100/100 [00:22<00:00,  4.52it/s]\n"
          ]
        }
      ]
    },
    {
      "cell_type": "code",
      "source": [
        "ec_anti_score=[]\n",
        "for i in tqdm(range(0,100)):\n",
        "  data_clustered=data_anti_ec.sample(n=100)\n",
        "  joined_text = ' '.join(data_clustered['text_cleaned'])\n",
        "  score = Readability(joined_text).flesch().score\n",
        "  ec_anti_score.append(score)"
      ],
      "metadata": {
        "colab": {
          "base_uri": "https://localhost:8080/"
        },
        "outputId": "9460b7db-badc-46f3-bf66-61bccd060085",
        "id": "4VmxBMX13Hgk"
      },
      "execution_count": null,
      "outputs": [
        {
          "output_type": "stream",
          "name": "stderr",
          "text": [
            "100%|██████████| 100/100 [00:19<00:00,  5.14it/s]\n"
          ]
        }
      ]
    },
    {
      "cell_type": "code",
      "source": [
        "data_qa_ec=data_qa.loc[data_qa['cluster']==1]\n",
        "data_qa_nec=data_qa.loc[data_qa['cluster']==0]"
      ],
      "metadata": {
        "id": "Msl2Qi9h3Xa8"
      },
      "execution_count": null,
      "outputs": []
    },
    {
      "cell_type": "code",
      "source": [
        "from tqdm import tqdm\n",
        "nec_qa_score=[]\n",
        "for i in tqdm(range(0,100)):\n",
        "  data_clustered=data_qa_nec.sample(n=100)\n",
        "  joined_text = ' '.join(data_clustered['text_cleaned'])\n",
        "  score = Readability(joined_text).flesch().score\n",
        "  nec_qa_score.append(score)"
      ],
      "metadata": {
        "colab": {
          "base_uri": "https://localhost:8080/"
        },
        "outputId": "a06bb463-e1d5-432d-c296-cc87ae3f2a77",
        "id": "gDx-YdAH3Xa9"
      },
      "execution_count": null,
      "outputs": [
        {
          "output_type": "stream",
          "name": "stderr",
          "text": [
            "100%|██████████| 100/100 [00:18<00:00,  5.46it/s]\n"
          ]
        }
      ]
    },
    {
      "cell_type": "code",
      "source": [
        "ec_qa_score=[]\n",
        "for i in tqdm(range(0,100)):\n",
        "  data_clustered=data_qa_ec.sample(n=100)\n",
        "  joined_text = ' '.join(data_clustered['text_cleaned'])\n",
        "  score = Readability(joined_text).flesch().score\n",
        "  ec_qa_score.append(score)"
      ],
      "metadata": {
        "colab": {
          "base_uri": "https://localhost:8080/"
        },
        "outputId": "4d0745ec-2351-4050-d330-c9ec45db25cb",
        "id": "p-vXsuSE3Xa9"
      },
      "execution_count": null,
      "outputs": [
        {
          "output_type": "stream",
          "name": "stderr",
          "text": [
            "100%|██████████| 100/100 [00:15<00:00,  6.63it/s]\n"
          ]
        }
      ]
    },
    {
      "cell_type": "code",
      "source": [
        "data_mt_ec=data_mt.loc[data_mt['cluster']==1]\n",
        "data_mt_nec=data_mt.loc[data_mt['cluster']==0]"
      ],
      "metadata": {
        "id": "otzlP0iJ_eeb"
      },
      "execution_count": null,
      "outputs": []
    },
    {
      "cell_type": "code",
      "source": [
        "from tqdm import tqdm\n",
        "nec_mt_score=[]\n",
        "for i in tqdm(range(0,100)):\n",
        "  data_clustered=data_mt_nec.sample(n=100)\n",
        "  joined_text = ' '.join(data_clustered['text_cleaned'])\n",
        "  score = Readability(joined_text).flesch().score\n",
        "  nec_mt_score.append(score)"
      ],
      "metadata": {
        "colab": {
          "base_uri": "https://localhost:8080/"
        },
        "outputId": "23889dc3-de9a-4c25-ccda-2b271679f638",
        "id": "dyLTjDty_eec"
      },
      "execution_count": null,
      "outputs": [
        {
          "output_type": "stream",
          "name": "stderr",
          "text": [
            "100%|██████████| 100/100 [00:17<00:00,  5.85it/s]\n"
          ]
        }
      ]
    },
    {
      "cell_type": "code",
      "source": [
        "ec_mt_score=[]\n",
        "for i in tqdm(range(0,100)):\n",
        "  data_clustered=data_mt_ec.sample(n=100)\n",
        "  joined_text = ' '.join(data_clustered['text_cleaned'])\n",
        "  score = Readability(joined_text).flesch().score\n",
        "  ec_mt_score.append(score)"
      ],
      "metadata": {
        "colab": {
          "base_uri": "https://localhost:8080/"
        },
        "outputId": "649052e0-bdab-4612-8d11-4eafc6ce7361",
        "id": "Oe4kZtGV_eec"
      },
      "execution_count": null,
      "outputs": [
        {
          "output_type": "stream",
          "name": "stderr",
          "text": [
            "100%|██████████| 100/100 [00:13<00:00,  7.67it/s]\n"
          ]
        }
      ]
    },
    {
      "cell_type": "code",
      "source": [
        "data_mm_ec=data_mm.loc[data_mm['cluster']==1]\n",
        "data_mm_nec=data_mm.loc[data_mm['cluster']==0]"
      ],
      "metadata": {
        "id": "BHivi5rMEAwr"
      },
      "execution_count": null,
      "outputs": []
    },
    {
      "cell_type": "code",
      "source": [
        "from tqdm import tqdm\n",
        "nec_mm_score=[]\n",
        "for i in tqdm(range(0,100)):\n",
        "  data_clustered=data_mm_nec.sample(n=100)\n",
        "  joined_text = ' '.join(data_clustered['text_cleaned'])\n",
        "  score = Readability(joined_text).flesch().score\n",
        "  nec_mm_score.append(score)"
      ],
      "metadata": {
        "colab": {
          "base_uri": "https://localhost:8080/"
        },
        "outputId": "a61fb4c1-1cf0-4461-c8a0-052d598256a1",
        "id": "NaEwsplIEAwr"
      },
      "execution_count": null,
      "outputs": [
        {
          "output_type": "stream",
          "name": "stderr",
          "text": [
            "100%|██████████| 100/100 [00:15<00:00,  6.52it/s]\n"
          ]
        }
      ]
    },
    {
      "cell_type": "code",
      "source": [
        "ec_mm_score=[]\n",
        "for i in tqdm(range(0,100)):\n",
        "  data_clustered=data_mm_ec.sample(n=100)\n",
        "  joined_text = ' '.join(data_clustered['text_cleaned'])\n",
        "  score = Readability(joined_text).flesch().score\n",
        "  ec_mm_score.append(score)"
      ],
      "metadata": {
        "colab": {
          "base_uri": "https://localhost:8080/"
        },
        "outputId": "332c8ae6-a6fb-473a-db71-a8a66d75b4e0",
        "id": "hSXnWCOtEAwr"
      },
      "execution_count": null,
      "outputs": [
        {
          "output_type": "stream",
          "name": "stderr",
          "text": [
            "100%|██████████| 100/100 [00:17<00:00,  5.77it/s]\n"
          ]
        }
      ]
    },
    {
      "cell_type": "code",
      "source": [
        "data_blm_ec=data_blm.loc[data_blm['cluster']==1]\n",
        "data_blm_nec=data_blm.loc[data_blm['cluster']==0]"
      ],
      "metadata": {
        "id": "SEZyR6QRI6xe"
      },
      "execution_count": null,
      "outputs": []
    },
    {
      "cell_type": "code",
      "source": [
        "from tqdm import tqdm\n",
        "nec_blm_score=[]\n",
        "for i in tqdm(range(0,100)):\n",
        "  data_clustered=data_blm_nec.sample(n=100)\n",
        "  joined_text = ' '.join(data_clustered['text_cleaned'])\n",
        "  score = Readability(joined_text).flesch().score\n",
        "  nec_blm_score.append(score)"
      ],
      "metadata": {
        "colab": {
          "base_uri": "https://localhost:8080/"
        },
        "id": "vM3dH8lnI6xe",
        "outputId": "1b6987cb-21f7-465c-e7b5-0ca3a43bfa56"
      },
      "execution_count": null,
      "outputs": [
        {
          "output_type": "stream",
          "name": "stderr",
          "text": [
            "100%|██████████| 100/100 [00:15<00:00,  6.31it/s]\n"
          ]
        }
      ]
    },
    {
      "cell_type": "code",
      "source": [
        "ec_blm_score=[]\n",
        "for i in tqdm(range(0,100)):\n",
        "  data_clustered=data_blm_ec.sample(n=100)\n",
        "  joined_text = ' '.join(data_clustered['text_cleaned'])\n",
        "  score = Readability(joined_text).flesch().score\n",
        "  ec_blm_score.append(score)"
      ],
      "metadata": {
        "colab": {
          "base_uri": "https://localhost:8080/"
        },
        "id": "D7Ju-RQKI6xe",
        "outputId": "1a17718c-6832-4f73-ab56-ff8ed7dc352c"
      },
      "execution_count": null,
      "outputs": [
        {
          "output_type": "stream",
          "name": "stderr",
          "text": [
            "100%|██████████| 100/100 [00:14<00:00,  7.10it/s]\n"
          ]
        }
      ]
    },
    {
      "cell_type": "code",
      "source": [
        "#plot them together\n",
        "categories = [\"Election\\nFraud\", \"Antivax\", \"QAnon\",\"MeToo\",\"BLM\", \"Monday\\nMotivation\"]\n",
        "list1_data = [ec_fraud_score, ec_anti_score, ec_qa_score,ec_mt_score,ec_blm_score, ec_mm_score]\n",
        "list2_data = [nec_fraud_score, nec_anti_score, nec_qa_score,nec_mt_score,nec_blm_score, nec_mm_score]\n",
        "\n",
        "data_list1 = pd.DataFrame(list1_data, index=categories).T.melt(var_name=\"\", value_name=\"Readability Ease\")\n",
        "data_list1['Group'] = 'Echo Chamber'\n",
        "data_list2 = pd.DataFrame(list2_data, index=categories).T.melt(var_name=\"\", value_name=\"Readability Ease\")\n",
        "data_list2['Group'] = 'External'\n",
        "\n",
        "data_combined = pd.concat([data_list1, data_list2])\n",
        "\n",
        "colors = {\"Echo Chamber\": \"skyblue\", \"External\": \"antiquewhite\"}\n",
        "\n",
        "\n",
        "plt.figure(figsize=(6, 4))\n",
        "sns.boxplot(data=data_combined, x=\"\", y=\"Readability Ease\", hue=\"Group\", palette=colors)\n",
        "\n",
        "\n",
        "\n",
        "plt.legend(loc=\"lower right\")\n",
        "plt.show()\n",
        "\n"
      ],
      "metadata": {
        "colab": {
          "base_uri": "https://localhost:8080/",
          "height": 388
        },
        "id": "oAOLEoQM167t",
        "outputId": "f5bd7635-8988-438f-9ec0-6ebc9fa02d81"
      },
      "execution_count": null,
      "outputs": [
        {
          "output_type": "display_data",
          "data": {
            "text/plain": [
              "<Figure size 600x400 with 1 Axes>"
            ],
            "image/png": "[encoded data removed]"
          },
          "metadata": {}
        }
      ]
    },
    {
      "cell_type": "code",
      "source": [
        "from scipy.stats import ttest_ind\n",
        "\n",
        "\n",
        "t_test_results = []\n",
        "for list1, list2 in zip(list1_data, list2_data):\n",
        "    t_stat, p_value = ttest_ind(list1, list2)\n",
        "    t_test_results.append((t_stat, p_value))\n",
        "\n",
        "t_test_results"
      ],
      "metadata": {
        "id": "fkqHI1nS2cKp",
        "colab": {
          "base_uri": "https://localhost:8080/"
        },
        "outputId": "e9f5d1ab-1374-442b-b805-ad5988e14b54"
      },
      "execution_count": null,
      "outputs": [
        {
          "output_type": "execute_result",
          "data": {
            "text/plain": [
              "[(25.24877036794616, 8.095699372206065e-64),\n",
              " (7.145154738111515, 1.6829415805133732e-11),\n",
              " (15.902559518126603, 3.1165544997396394e-37),\n",
              " (-7.131002945948962, 1.826481359114465e-11),\n",
              " (1.647135281886703, 0.10111636677886253),\n",
              " (-30.845856618508616, 1.494046814462254e-77)]"
            ]
          },
          "metadata": {},
          "execution_count": 82
        }
      ]
    },
    {
      "cell_type": "code",
      "source": [],
      "metadata": {
        "id": "bCv6PvHClYh9"
      },
      "execution_count": null,
      "outputs": []
    }
  ]
}