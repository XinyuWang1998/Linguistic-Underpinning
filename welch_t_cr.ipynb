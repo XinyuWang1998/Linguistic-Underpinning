{
  "nbformat": 4,
  "nbformat_minor": 0,
  "metadata": {
    "colab": {
      "provenance": []
    },
    "kernelspec": {
      "name": "python3",
      "display_name": "Python 3"
    },
    "language_info": {
      "name": "python"
    }
  },
  "cells": [
    {
      "cell_type": "code",
      "execution_count": null,
      "metadata": {
        "id": "JmMrHAGLLArM"
      },
      "outputs": [],
      "source": [
        "import pandas as pd\n",
        "import re\n",
        "import numpy as np\n",
        "import math\n",
        "from scipy.stats import ttest_ind\n"
      ]
    },
    {
      "cell_type": "code",
      "source": [
        "\n",
        "\n",
        "file_path=path+ \"dataset.csv\"\n",
        "data=pd.read_csv(file_path)\n",
        "data1=data.loc[data['cluster']==1]['BigWords']\n",
        "data2=data.loc[data['cluster']==0]['BigWords']\n",
        "print(data1.mean(),data2.mean())\n",
        "\n",
        "# Perform Welch's t-test\n",
        "t_stat, p_val = ttest_ind(data1, data2, equal_var=True)\n",
        "\n",
        "print(f\"T-statistic: {t_stat}\")\n",
        "print(f\"P-value: {p_val}\")"
      ],
      "metadata": {
        "id": "LPVbSNMzLg7h"
      },
      "execution_count": null,
      "outputs": []
    },
    {
      "cell_type": "code",
      "source": [
        "import numpy as np\n",
        "import matplotlib.pyplot as plt\n",
        "from scipy.stats import norm\n",
        "\n",
        "plt.figure(figsize=(3, 3))\n",
        "mu1, std1 = norm.fit(data1)\n",
        "mu2, std2 = norm.fit(data2)\n",
        "\n",
        "# Plot the histogram for data1\n",
        "plt.hist(data1, bins=10, density=True, alpha=0.4, color='blue', label=f'EC: mu={mu1:.2f}, std={std1:.2f}')\n",
        "\n",
        "# Plot the PDF of the normal distribution for data1\n",
        "xmin, xmax = plt.xlim()\n",
        "x = np.linspace(xmin, xmax, 100)\n",
        "p1 = norm.pdf(x, mu1, std1)\n",
        "plt.plot(x, p1, 'b--', linewidth=2)\n",
        "\n",
        "# Plot the histogram for data2\n",
        "plt.hist(data2, bins=10, density=True, alpha=0.4, color='red', label=f'NEC: mu={mu2:.2f}, std={std2:.2f}')\n",
        "\n",
        "# Plot the PDF of the normal distribution for data2\n",
        "p2 = norm.pdf(x, mu2, std2)\n",
        "plt.plot(x, p2, 'r--', linewidth=2)\n",
        "\n",
        "# Title and legend\n",
        "#plt.title(\"Fit Results for Two Datasets\")\n",
        "#plt.ylabel('Probability Density')\n",
        "#plt.xlabel('BigWords Score')\n",
        "#plt.legend()\n",
        "\n",
        "# Show combined plot\n",
        "plt.show()\n"
      ],
      "metadata": {
        "id": "FdBRVyiOLdwc"
      },
      "execution_count": null,
      "outputs": []
    },
    {
      "cell_type": "code",
      "source": [
        "def cohen_d(x, y):\n",
        "    \"\"\"Calculate Cohen's d for independent samples.\"\"\"\n",
        "    nx = len(x)\n",
        "    ny = len(y)\n",
        "    dof = nx + ny - 2\n",
        "    return (np.mean(x) - np.mean(y)) / np.sqrt(((nx-1)*np.var(x, ddof=1) + (ny-1)*np.var(y, ddof=1)) / dof)"
      ],
      "metadata": {
        "id": "4cpomZt1LVIc"
      },
      "execution_count": null,
      "outputs": []
    },
    {
      "cell_type": "code",
      "source": [
        "import numpy as np\n",
        "from scipy.stats import ttest_ind\n",
        "\n",
        "#Read in dataset.\n",
        "file_path=path+ \"dataset.csv\"\n",
        "data=pd.read_csv(file_path)\n",
        "results = pd.DataFrame(columns=['Iteration', 'data1','data2','t-statistic', 'p-value', 'Cohen\\'s d'])\n",
        "for i in range(0,1000):\n",
        "  data1=data.loc[data['cluster']==1]['BigWords'].sample(n=1000)\n",
        "  data2=data.loc[data['cluster']==0]['BigWords'].sample(n=1000)\n",
        "\n",
        "# Perform Welch's t-test\n",
        "  t_stat, p_val = ttest_ind(data1, data2, equal_var=True)\n",
        "  d = cohen_d(data1, data2)\n",
        "  results = results.append({\n",
        "        'Iteration':i,\n",
        "        'data1': data1.mean(),\n",
        "        'data2': data2.mean(),\n",
        "        't-statistic': t_stat,\n",
        "        'p-value': p_val,\n",
        "        'Cohen\\'s d': d\n",
        "    }, ignore_index=True)"
      ],
      "metadata": {
        "id": "O0_I-XS2LwLB"
      },
      "execution_count": null,
      "outputs": []
    },
    {
      "cell_type": "code",
      "source": [
        "print(len(results.loc[results['data1']<results['data2']]),\n",
        "results['data1'].median(),\n",
        "results['data2'].median(),\n",
        "results['t-statistic'].median(),\n",
        "results['p-value'].median(),\n",
        "len(results.loc[results['p-value']<=0.05]))"
      ],
      "metadata": {
        "id": "h63GXZziL-pz"
      },
      "execution_count": null,
      "outputs": []
    }
  ]
}