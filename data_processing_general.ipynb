{
  "nbformat": 4,
  "nbformat_minor": 0,
  "metadata": {
    "colab": {
      "provenance": [],
      "machine_shape": "hm"
    },
    "kernelspec": {
      "name": "python3",
      "display_name": "Python 3"
    },
    "language_info": {
      "name": "python"
    }
  },
  "cells": [
    {
      "cell_type": "code",
      "execution_count": null,
      "metadata": {
        "id": "SOuQ_SMXGdkh"
      },
      "outputs": [],
      "source": [
        "# Initial Setup.\n",
        "import pandas as pd\n",
        "import re\n",
        "import numpy as np\n",
        "from scipy import stats\n",
        "import matplotlib.pyplot as plt\n",
        "import matplotlib.cm as cm\n",
        "import networkx as nx\n",
        "from tqdm import tqdm"
      ]
    },
    {
      "cell_type": "code",
      "source": [
        "#Read in cleaned dataset.\n",
        "file_path=path+ \"fraud_cleaned.csv\"\n",
        "data=pd.read_csv(file_path,converters={'id':str,'entities':str,'interact_with':str,'author_id':str})"
      ],
      "metadata": {
        "colab": {
          "base_uri": "https://localhost:8080/"
        },
        "id": "3dRsNNo1r-jy",
        "outputId": "b678124f-91d4-449f-fe68-870a97edd963"
      },
      "execution_count": null,
      "outputs": [
        {
          "output_type": "stream",
          "name": "stderr",
          "text": [
            "<ipython-input-2-b721fe1c8e81>:3: DtypeWarning: Columns (12) have mixed types. Specify dtype option on import or set low_memory=False.\n",
            "  data=pd.read_csv(file_path,converters={'id':str,'entities':str,'interact_with':str,'author_id':str})\n"
          ]
        }
      ]
    },
    {
      "cell_type": "code",
      "source": [
        "data_isolates=data[data['interact_with']=='']"
      ],
      "metadata": {
        "id": "Fz4S_WMEAIwB"
      },
      "execution_count": null,
      "outputs": []
    },
    {
      "cell_type": "code",
      "source": [
        "#Filter out those empty rows.\n",
        "data_new = data[(data['interact_with'].isin(data['author_id']))]"
      ],
      "metadata": {
        "id": "cmhFu3diqiK-"
      },
      "execution_count": null,
      "outputs": []
    },
    {
      "cell_type": "code",
      "source": [
        "data_new.loc[data_new['interact_with']=='']"
      ],
      "metadata": {
        "colab": {
          "base_uri": "https://localhost:8080/",
          "height": 87
        },
        "id": "Q6gUzS373y7K",
        "outputId": "f8f9b5a9-0a75-45ee-e0ea-0ef0db68e60f"
      },
      "execution_count": null,
      "outputs": [
        {
          "output_type": "execute_result",
          "data": {
            "text/plain": [
              "Empty DataFrame\n",
              "Columns: [Unnamed: 0, entities, possibly_sensitive, public_metrics, author_id, conversation_id, text, lang, edit_history_tweet_ids, created_at, id, in_reply_to_user_id, withheld, reference_type, reference_id, reference_author_id, text_y, interact_with]\n",
              "Index: []"
            ],
            "text/html": [
              "\n",
              "  <div id=\"df-2f299883-7d7d-498a-9623-77ae7561bcbc\" class=\"colab-df-container\">\n",
              "    <div>\n",
              "<style scoped>\n",
              "    .dataframe tbody tr th:only-of-type {\n",
              "        vertical-align: middle;\n",
              "    }\n",
              "\n",
              "    .dataframe tbody tr th {\n",
              "        vertical-align: top;\n",
              "    }\n",
              "\n",
              "    .dataframe thead th {\n",
              "        text-align: right;\n",
              "    }\n",
              "</style>\n",
              "<table border=\"1\" class=\"dataframe\">\n",
              "  <thead>\n",
              "    <tr style=\"text-align: right;\">\n",
              "      <th></th>\n",
              "      <th>Unnamed: 0</th>\n",
              "      <th>entities</th>\n",
              "      <th>possibly_sensitive</th>\n",
              "      <th>public_metrics</th>\n",
              "      <th>author_id</th>\n",
              "      <th>conversation_id</th>\n",
              "      <th>text</th>\n",
              "      <th>lang</th>\n",
              "      <th>edit_history_tweet_ids</th>\n",
              "      <th>created_at</th>\n",
              "      <th>id</th>\n",
              "      <th>in_reply_to_user_id</th>\n",
              "      <th>withheld</th>\n",
              "      <th>reference_type</th>\n",
              "      <th>reference_id</th>\n",
              "      <th>reference_author_id</th>\n",
              "      <th>text_y</th>\n",
              "      <th>interact_with</th>\n",
              "    </tr>\n",
              "  </thead>\n",
              "  <tbody>\n",
              "  </tbody>\n",
              "</table>\n",
              "</div>\n",
              "    <div class=\"colab-df-buttons\">\n",
              "\n",
              "  <div class=\"colab-df-container\">\n",
              "    <button class=\"colab-df-convert\" onclick=\"convertToInteractive('df-2f299883-7d7d-498a-9623-77ae7561bcbc')\"\n",
              "            title=\"Convert this dataframe to an interactive table.\"\n",
              "            style=\"display:none;\">\n",
              "\n",
              "  <svg xmlns=\"http://www.w3.org/2000/svg\" height=\"24px\" viewBox=\"0 -960 960 960\">\n",
              "    <path d=\"M120-120v-720h720v720H120Zm60-500h600v-160H180v160Zm220 220h160v-160H400v160Zm0 220h160v-160H400v160ZM180-400h160v-160H180v160Zm440 0h160v-160H620v160ZM180-180h160v-160H180v160Zm440 0h160v-160H620v160Z\"/>\n",
              "  </svg>\n",
              "    </button>\n",
              "\n",
              "  <style>\n",
              "    .colab-df-container {\n",
              "      display:flex;\n",
              "      gap: 12px;\n",
              "    }\n",
              "\n",
              "    .colab-df-convert {\n",
              "      background-color: #E8F0FE;\n",
              "      border: none;\n",
              "      border-radius: 50%;\n",
              "      cursor: pointer;\n",
              "      display: none;\n",
              "      fill: #1967D2;\n",
              "      height: 32px;\n",
              "      padding: 0 0 0 0;\n",
              "      width: 32px;\n",
              "    }\n",
              "\n",
              "    .colab-df-convert:hover {\n",
              "      background-color: #E2EBFA;\n",
              "      box-shadow: 0px 1px 2px rgba(60, 64, 67, 0.3), 0px 1px 3px 1px rgba(60, 64, 67, 0.15);\n",
              "      fill: #174EA6;\n",
              "    }\n",
              "\n",
              "    .colab-df-buttons div {\n",
              "      margin-bottom: 4px;\n",
              "    }\n",
              "\n",
              "    [theme=dark] .colab-df-convert {\n",
              "      background-color: #3B4455;\n",
              "      fill: #D2E3FC;\n",
              "    }\n",
              "\n",
              "    [theme=dark] .colab-df-convert:hover {\n",
              "      background-color: #434B5C;\n",
              "      box-shadow: 0px 1px 3px 1px rgba(0, 0, 0, 0.15);\n",
              "      filter: drop-shadow(0px 1px 2px rgba(0, 0, 0, 0.3));\n",
              "      fill: #FFFFFF;\n",
              "    }\n",
              "  </style>\n",
              "\n",
              "    <script>\n",
              "      const buttonEl =\n",
              "        document.querySelector('#df-2f299883-7d7d-498a-9623-77ae7561bcbc button.colab-df-convert');\n",
              "      buttonEl.style.display =\n",
              "        google.colab.kernel.accessAllowed ? 'block' : 'none';\n",
              "\n",
              "      async function convertToInteractive(key) {\n",
              "        const element = document.querySelector('#df-2f299883-7d7d-498a-9623-77ae7561bcbc');\n",
              "        const dataTable =\n",
              "          await google.colab.kernel.invokeFunction('convertToInteractive',\n",
              "                                                    [key], {});\n",
              "        if (!dataTable) return;\n",
              "\n",
              "        const docLinkHtml = 'Like what you see? Visit the ' +\n",
              "          '<a target=\"_blank\" href=https://colab.research.google.com/notebooks/data_table.ipynb>data table notebook</a>'\n",
              "          + ' to learn more about interactive tables.';\n",
              "        element.innerHTML = '';\n",
              "        dataTable['output_type'] = 'display_data';\n",
              "        await google.colab.output.renderOutput(dataTable, element);\n",
              "        const docLink = document.createElement('div');\n",
              "        docLink.innerHTML = docLinkHtml;\n",
              "        element.appendChild(docLink);\n",
              "      }\n",
              "    </script>\n",
              "  </div>\n",
              "\n",
              "\n",
              "    </div>\n",
              "  </div>\n"
            ]
          },
          "metadata": {},
          "execution_count": 10
        }
      ]
    },
    {
      "cell_type": "code",
      "source": [
        "G = nx.from_pandas_edgelist(data_new,'author_id','interact_with',create_using=nx.DiGraph())\n",
        "strongly_connected_components = list(nx.strongly_connected_components(G))"
      ],
      "metadata": {
        "id": "luDTbG7_Y0OR"
      },
      "execution_count": null,
      "outputs": []
    },
    {
      "cell_type": "code",
      "source": [
        "min_size = 2\n",
        "ec = [i for i in strongly_connected_components  if len(i) >= min_size]\n",
        "len(ec)"
      ],
      "metadata": {
        "colab": {
          "base_uri": "https://localhost:8080/"
        },
        "id": "DIShHOTjR0-c",
        "outputId": "4ac7fb6b-5413-4ff3-eda0-c3575d289c1b"
      },
      "execution_count": null,
      "outputs": [
        {
          "output_type": "execute_result",
          "data": {
            "text/plain": [
              "143"
            ]
          },
          "metadata": {},
          "execution_count": 13
        }
      ]
    },
    {
      "cell_type": "code",
      "source": [
        "flattened_list = [item for subset in ec for item in subset]"
      ],
      "metadata": {
        "id": "gpWWGzf1Oo82"
      },
      "execution_count": null,
      "outputs": []
    },
    {
      "cell_type": "code",
      "source": [
        "len(flattened_list)"
      ],
      "metadata": {
        "colab": {
          "base_uri": "https://localhost:8080/"
        },
        "id": "z809eKpcWmkO",
        "outputId": "5daf77c9-6449-4274-f2ff-57ee3687ddc1"
      },
      "execution_count": null,
      "outputs": [
        {
          "output_type": "execute_result",
          "data": {
            "text/plain": [
              "470"
            ]
          },
          "metadata": {},
          "execution_count": 15
        }
      ]
    },
    {
      "cell_type": "code",
      "source": [
        "len(max(strongly_connected_components, key=len))"
      ],
      "metadata": {
        "colab": {
          "base_uri": "https://localhost:8080/"
        },
        "id": "hAmKo2ZBPU25",
        "outputId": "2b3c4297-e5d2-43e0-dc2b-7e18e019befa"
      },
      "execution_count": null,
      "outputs": [
        {
          "output_type": "execute_result",
          "data": {
            "text/plain": [
              "126"
            ]
          },
          "metadata": {},
          "execution_count": 16
        }
      ]
    },
    {
      "cell_type": "code",
      "source": [
        "def clusters(text):\n",
        "    if text in flattened_list:\n",
        "      return 1\n",
        "    else:\n",
        "      return 0\n",
        "from tqdm import tqdm\n",
        "tqdm.pandas()\n",
        "data_new=data_new.append(data_isolates)\n",
        "data_new['cluster'] = data_new['author_id'].progress_apply(clusters)\n",
        "def clusters_s(text):\n",
        "    if text in flattened_list_s:\n",
        "      return \"strongest\"\n",
        "\n",
        "data_new['strongest'] = data_new['author_id'].progress_apply(clusters_s)"
      ],
      "metadata": {
        "colab": {
          "base_uri": "https://localhost:8080/"
        },
        "id": "FOOg1pVjRbMz",
        "outputId": "ce11c7e2-e08b-46f7-b1d2-8d035f844b8b"
      },
      "execution_count": null,
      "outputs": [
        {
          "output_type": "stream",
          "name": "stderr",
          "text": [
            "<ipython-input-19-ee9a38c311bc>:8: FutureWarning: The frame.append method is deprecated and will be removed from pandas in a future version. Use pandas.concat instead.\n",
            "  data_new=data_new.append(data_isolates)\n",
            "100%|██████████| 219872/219872 [00:01<00:00, 196141.32it/s]\n",
            "100%|██████████| 219872/219872 [00:00<00:00, 613999.06it/s]\n"
          ]
        }
      ]
    },
    {
      "cell_type": "code",
      "source": [
        "# Clean the text.\n",
        "def cleaner(x):\n",
        "    import re\n",
        "    x = re.sub(r'http\\S+', '', x)\n",
        "    x = re.sub('\\n', '',x)\n",
        "    x = re.sub(\"@[A-Za-z0-9_]+\",\"\", x)\n",
        "    x=re.sub(r'^RT ', '', x)\n",
        "    x = re.sub(\"#[A-Za-z0-9_]+\",\"\", x)\n",
        "    #x = re.sub(r'[^\\w\\s]', '', x)\n",
        "    #import nltk\n",
        "    #from nltk.corpus import stopwords\n",
        "    #words = nltk.word_tokenize(x)\n",
        "\n",
        "    # Remove stopwords\n",
        "    #stop_words = set(stopwords.words('english'))\n",
        "    #words = [word for word in words if word.lower() not in stop_words]\n",
        "    #from gensim.parsing.preprocessing import remove_stopwords\n",
        "    #x = remove_stopwords(x)\n",
        "    emoji_pattern = re.compile(\"[\"\n",
        "        u\"\\U0001F600-\\U0001F64F\"  # emoticons\n",
        "        u\"\\U0001F300-\\U0001F5FF\"  # symbols & pictographs\n",
        "        u\"\\U0001F680-\\U0001F6FF\"  # transport & map symbols\n",
        "        u\"\\U0001F1E0-\\U0001F1FF\"  # flags (iOS)\n",
        "        u\"\\U0001F1F2-\\U0001F1F4\"  # Macau flag\n",
        "        u\"\\U0001F1E6-\\U0001F1FF\"  # flags\n",
        "        u\"\\U0001F600-\\U0001F64F\"\n",
        "        u\"\\U00002702-\\U000027B0\"\n",
        "        u\"\\U000024C2-\\U0001F251\"\n",
        "        u\"\\U0001f926-\\U0001f937\"\n",
        "        u\"\\U0001F1F2\"\n",
        "        u\"\\U0001F1F4\"\n",
        "        u\"\\U0001F620\"\n",
        "        u\"\\u200d\"\n",
        "        u\"\\u2640-\\u2642\"\n",
        "        \"]+\", flags=re.UNICODE)\n",
        "\n",
        "    x = emoji_pattern.sub(r'', x)\n",
        "    x = x.lower()\n",
        "\n",
        "    #import emoji\n",
        "    #cleaned = emoji.get_emoji_regexp().sub(\"\", x)\n",
        "\n",
        "    return x"
      ],
      "metadata": {
        "id": "HYggOg6Q0RSu"
      },
      "execution_count": null,
      "outputs": []
    },
    {
      "cell_type": "code",
      "source": [
        "def cleaner_hm(x):\n",
        "    import re\n",
        "    x = re.sub(r'http\\S+', '', x)\n",
        "    x = re.sub(',', '',x)\n",
        "    x = re.sub('\\?','',x)\n",
        "    x = re.sub('!','',x)\n",
        "    x = re.sub('\\n', '',x)\n",
        "    x = re.sub('\\.', '',x)\n",
        "    x=re.sub(r'^RT ', '', x)\n",
        "    x = re.sub(\"@[A-Za-z0-9_]+\",\"\", x)\n",
        "    x = re.sub(\"#[A-Za-z0-9_]+\",\"\", x)\n",
        "    #x = re.sub(\"@[A-Za-z0-9]+\\s\",'', x)\n",
        "    #x = x.replace(\"#\", \"\").replace(\"_\", \"\") #Remove hashtag sign but keep the text\n",
        "    x = re.sub(r'[^\\w\\s]', '', x)\n",
        "    #from gensim.parsing.preprocessing import remove_stopwords\n",
        "    #x = remove_stopwords(x)\n",
        "    emoji_pattern = re.compile(\"[\"\n",
        "        u\"\\U0001F600-\\U0001F64F\"  # emoticons\n",
        "        u\"\\U0001F300-\\U0001F5FF\"  # symbols & pictographs\n",
        "        u\"\\U0001F680-\\U0001F6FF\"  # transport & map symbols\n",
        "        u\"\\U0001F1E0-\\U0001F1FF\"  # flags (iOS)\n",
        "        u\"\\U0001F1F2-\\U0001F1F4\"  # Macau flag\n",
        "        u\"\\U0001F1E6-\\U0001F1FF\"  # flags\n",
        "        u\"\\U0001F600-\\U0001F64F\"\n",
        "        u\"\\U00002702-\\U000027B0\"\n",
        "        u\"\\U000024C2-\\U0001F251\"\n",
        "        u\"\\U0001f926-\\U0001f937\"\n",
        "        u\"\\U0001F1F2\"\n",
        "        u\"\\U0001F1F4\"\n",
        "        u\"\\U0001F620\"\n",
        "        u\"\\u200d\"\n",
        "        u\"\\u2640-\\u2642\"\n",
        "        \"]+\", flags=re.UNICODE)\n",
        "\n",
        "    x = emoji_pattern.sub(r'', x)\n",
        "    x = x.lower()\n",
        "\n",
        "    #import emoji\n",
        "    #cleaned = emoji.get_emoji_regexp().sub(\"\", x)\n",
        "\n",
        "    return x"
      ],
      "metadata": {
        "id": "altrlEVx_VpZ"
      },
      "execution_count": null,
      "outputs": []
    },
    {
      "cell_type": "code",
      "source": [
        "\n",
        "all_logical = \"actually,admittedly,also,alternatively,although,anyhow,anyway,because,besides,but,cause,caused,causes,causing,consequence,consequences,consequently,correspondingly,enable,enabled,enables,finally,for,fortunately,further,furthermore,hence,however,if,incidentally,instead,likewise,moreover,nevertheless,next,nonetheless,nor,or,otherwise,rather,secondly,similarly,summarizing,then,therefore,thereupon,though,thus,unless,whereas,while\".split(\",\")\n",
        "all_logical_caveat = \"for since so\".split(\" \")\n",
        "\n",
        "addition = \"and,also,besides,further,furthermore,too,moreover,then,another,indeed,likewise\".split(\",\")\n",
        "all_negative = \"admittedly,alternatively,although,and conversely,anyhow,but,however,nevertheless,nonetheless,nor,or,otherwise,rather,though,unless,until,whenever,whereas,yet\".split(\",\")\n",
        "\n",
        "\n",
        "#Givenness pronouns:\n",
        "givenness_prp = \"we our us ours ourselves they them their themselves theirs\".split(\" \")\n",
        "\n"
      ],
      "metadata": {
        "id": "G-d_kAco8DUF"
      },
      "execution_count": null,
      "outputs": []
    },
    {
      "cell_type": "code",
      "source": [
        "def nwords(text):\n",
        "    text_tokens=text.split(\" \")\n",
        "    text_tokens = [a for a in text_tokens if a!='']\n",
        "    return len(text_tokens)\n",
        "def safe_divide(numerator, denominator):\n",
        "    if denominator == 0:\n",
        "        index = 0\n",
        "    else: index = numerator/denominator\n",
        "    return index\n",
        "def logical_connectives_counter(text):\n",
        "    text_tokens=text.split(\" \")\n",
        "    counter=0\n",
        "    for item in text_tokens:\n",
        "        if item in (all_logical or all_logical_caveat):\n",
        "            counter+=1\n",
        "    return counter\n",
        "def adversative_connectives_counter(text):\n",
        "    text_tokens=text.split(\" \")\n",
        "    counter=0\n",
        "    for item in text_tokens:\n",
        "        if item in all_negative:\n",
        "            counter+=1\n",
        "    return counter\n",
        "def group_identity_counter(text):\n",
        "    text_tokens=text.split(\" \")\n",
        "    counter=0\n",
        "    for item in text_tokens:\n",
        "        if item in givenness_prp:\n",
        "            counter+=1\n",
        "    return counter\n",
        "def addition_counter(text):\n",
        "    text_tokens=text.split(\" \")\n",
        "    counter=0\n",
        "    for item in text_tokens:\n",
        "        if item in addition:\n",
        "            counter+=1\n",
        "    return counter\n",
        "def logical_connectives_words_ratio(text):\n",
        "    return safe_divide(logical_connectives_counter(text),nwords(text))\n",
        "def addition_words_ratio(text):\n",
        "    return safe_divide(addition_counter(text),nwords(text))\n",
        "def adversative_connectives_words_ratio(text):\n",
        "    return safe_divide(adversative_connectives_counter(text),nwords(text))\n",
        "def group_identity_words_ratio(text):\n",
        "    return safe_divide(group_identity_counter(text),nwords(text))\n"
      ],
      "metadata": {
        "id": "sH5jwJZI8DUG"
      },
      "execution_count": null,
      "outputs": []
    },
    {
      "cell_type": "code",
      "source": [
        "data_new['text_cleaned_hm']=data_new['text'].progress_apply(cleaner_hm)"
      ],
      "metadata": {
        "colab": {
          "base_uri": "https://localhost:8080/"
        },
        "outputId": "04624ed9-0644-4c21-c861-62d638b59e9d",
        "id": "sZbLDOha8DUG"
      },
      "execution_count": null,
      "outputs": [
        {
          "output_type": "stream",
          "name": "stderr",
          "text": [
            "100%|██████████| 219872/219872 [00:05<00:00, 40172.22it/s]\n"
          ]
        }
      ]
    },
    {
      "cell_type": "code",
      "source": [
        "\n",
        "data_new['identity'] = data_new['text_cleaned_hm'].apply(group_identity_words_ratio)\n",
        "data_new['logical'] = data_new['text_cleaned_hm'].apply(logical_connectives_words_ratio)\n",
        "data_new['negative'] = data_new['text_cleaned_hm'].apply(adversative_connectives_words_ratio)\n",
        "data_new['addition'] = data_new['text_cleaned_hm'].apply(addition_words_ratio)"
      ],
      "metadata": {
        "id": "SSipJqGiTko5"
      },
      "execution_count": null,
      "outputs": []
    },
    {
      "cell_type": "code",
      "source": [],
      "metadata": {
        "id": "AwasZULUc5tN"
      },
      "execution_count": null,
      "outputs": []
    }
  ]
}